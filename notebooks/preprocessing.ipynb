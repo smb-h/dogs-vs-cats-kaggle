{
 "cells": [
  {
   "cell_type": "code",
   "execution_count": 13,
   "metadata": {},
   "outputs": [],
   "source": [
    "import os, shutil\n",
    "import random\n",
    "import tensorflow as tf"
   ]
  },
  {
   "cell_type": "code",
   "execution_count": 14,
   "metadata": {},
   "outputs": [
    {
     "name": "stdout",
     "output_type": "stream",
     "text": [
      "25000\n",
      "['../data/raw/train/dog.11082.jpg', '../data/raw/train/cat.2955.jpg', '../data/raw/train/cat.12060.jpg', '../data/raw/train/dog.971.jpg', '../data/raw/train/cat.6966.jpg']\n"
     ]
    }
   ],
   "source": [
    "data_path = \"../data/raw\"\n",
    "x_train = os.listdir(data_path + \"/train\")\n",
    "# x_test = os.listdir(data_path + \"/test1\")\n",
    "x_train = [os.path.join(data_path, \"train\", x) for x in x_train]\n",
    "# x_test = [os.path.join(data_path, \"test1\", x) for x in x_test]\n",
    "print(len(x_train))\n",
    "# print(len(x_test))\n",
    "print(x_train[:5])\n",
    "# print(x_test[:5])"
   ]
  },
  {
   "cell_type": "code",
   "execution_count": 15,
   "metadata": {},
   "outputs": [
    {
     "name": "stdout",
     "output_type": "stream",
     "text": [
      "3000\n"
     ]
    }
   ],
   "source": [
    "x_train = random.choices(x_train, k=3000)\n",
    "# x_test = random.choices(x_train, k=250)\n",
    "print(len(x_train))\n",
    "# print(len(x_test))"
   ]
  },
  {
   "cell_type": "code",
   "execution_count": 16,
   "metadata": {},
   "outputs": [],
   "source": [
    "data_path = \"../data/processed\"\n",
    "if os.path.exists(data_path):\n",
    "    shutil.rmtree(data_path)\n",
    "os.makedirs(data_path + \"/train/dogs\")\n",
    "os.makedirs(data_path + \"/train/cats\")"
   ]
  },
  {
   "cell_type": "code",
   "execution_count": 17,
   "metadata": {},
   "outputs": [],
   "source": [
    "for x in x_train:\n",
    "    if \"dog\" in x:\n",
    "        shutil.copy(x, data_path + \"/train/dogs\")\n",
    "    else:\n",
    "        shutil.copy(x, data_path + \"/train/cats\")"
   ]
  },
  {
   "cell_type": "code",
   "execution_count": 18,
   "metadata": {},
   "outputs": [
    {
     "name": "stdout",
     "output_type": "stream",
     "text": [
      "1414\n",
      "1422\n"
     ]
    }
   ],
   "source": [
    "print(len(os.listdir(data_path + \"/train/dogs\")))\n",
    "print(len(os.listdir(data_path + \"/train/cats\")))"
   ]
  },
  {
   "cell_type": "code",
   "execution_count": null,
   "metadata": {},
   "outputs": [],
   "source": []
  }
 ],
 "metadata": {
  "kernelspec": {
   "display_name": "dogs_vs_cats",
   "language": "python",
   "name": "python3"
  },
  "language_info": {
   "codemirror_mode": {
    "name": "ipython",
    "version": 3
   },
   "file_extension": ".py",
   "mimetype": "text/x-python",
   "name": "python",
   "nbconvert_exporter": "python",
   "pygments_lexer": "ipython3",
   "version": "3.10.9 (main, Dec 19 2022, 17:35:49) [GCC 12.2.0]"
  },
  "orig_nbformat": 4,
  "vscode": {
   "interpreter": {
    "hash": "c524997143672cb4badf9a8f9d59dc57f476a7f64ce8e85fe24adb4183af89b3"
   }
  }
 },
 "nbformat": 4,
 "nbformat_minor": 2
}
