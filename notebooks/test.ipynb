{
 "cells": [
  {
   "cell_type": "code",
   "execution_count": 1,
   "metadata": {},
   "outputs": [
    {
     "name": "stderr",
     "output_type": "stream",
     "text": [
      "2023-01-24 20:55:26.924081: I tensorflow/core/platform/cpu_feature_guard.cc:193] This TensorFlow binary is optimized with oneAPI Deep Neural Network Library (oneDNN) to use the following CPU instructions in performance-critical operations:  AVX2 AVX512F AVX512_VNNI FMA\n",
      "To enable them in other operations, rebuild TensorFlow with the appropriate compiler flags.\n",
      "2023-01-24 20:55:27.188897: I tensorflow/core/util/port.cc:104] oneDNN custom operations are on. You may see slightly different numerical results due to floating-point round-off errors from different computation orders. To turn them off, set the environment variable `TF_ENABLE_ONEDNN_OPTS=0`.\n",
      "2023-01-24 20:55:27.232775: W tensorflow/compiler/xla/stream_executor/platform/default/dso_loader.cc:64] Could not load dynamic library 'libcudart.so.11.0'; dlerror: libcudart.so.11.0: cannot open shared object file: No such file or directory\n",
      "2023-01-24 20:55:27.232795: I tensorflow/compiler/xla/stream_executor/cuda/cudart_stub.cc:29] Ignore above cudart dlerror if you do not have a GPU set up on your machine.\n",
      "2023-01-24 20:55:28.452268: W tensorflow/compiler/xla/stream_executor/platform/default/dso_loader.cc:64] Could not load dynamic library 'libnvinfer.so.7'; dlerror: libnvinfer.so.7: cannot open shared object file: No such file or directory\n",
      "2023-01-24 20:55:28.452410: W tensorflow/compiler/xla/stream_executor/platform/default/dso_loader.cc:64] Could not load dynamic library 'libnvinfer_plugin.so.7'; dlerror: libnvinfer_plugin.so.7: cannot open shared object file: No such file or directory\n",
      "2023-01-24 20:55:28.452421: W tensorflow/compiler/tf2tensorrt/utils/py_utils.cc:38] TF-TRT Warning: Cannot dlopen some TensorRT libraries. If you would like to use Nvidia GPU with TensorRT, please make sure the missing libraries mentioned above are installed properly.\n"
     ]
    }
   ],
   "source": [
    "import os, shutil\n",
    "import random\n",
    "import tensorflow as tf\n",
    "from tensorflow.keras import (models, layers, optimizers)\n",
    "\n",
    "import plotly.express as ex\n",
    "import plotly.graph_objects as go"
   ]
  },
  {
   "cell_type": "code",
   "execution_count": 2,
   "metadata": {},
   "outputs": [
    {
     "name": "stdout",
     "output_type": "stream",
     "text": [
      "25000\n",
      "['../data/raw/train/dog.11082.jpg', '../data/raw/train/cat.2955.jpg', '../data/raw/train/cat.12060.jpg', '../data/raw/train/dog.971.jpg', '../data/raw/train/cat.6966.jpg']\n"
     ]
    }
   ],
   "source": [
    "data_path = \"../data/raw\"\n",
    "x_train = os.listdir(data_path + \"/train\")\n",
    "# x_test = os.listdir(data_path + \"/test1\")\n",
    "x_train = [os.path.join(data_path, \"train\", x) for x in x_train]\n",
    "# x_test = [os.path.join(data_path, \"test1\", x) for x in x_test]\n",
    "print(len(x_train))\n",
    "# print(len(x_test))\n",
    "print(x_train[:5])\n",
    "# print(x_test[:5])"
   ]
  },
  {
   "cell_type": "code",
   "execution_count": 3,
   "metadata": {},
   "outputs": [
    {
     "name": "stdout",
     "output_type": "stream",
     "text": [
      "3000\n"
     ]
    }
   ],
   "source": [
    "x_train = random.choices(x_train, k=3000)\n",
    "# x_test = random.choices(x_train, k=250)\n",
    "print(len(x_train))\n",
    "# print(len(x_test))"
   ]
  },
  {
   "cell_type": "code",
   "execution_count": 4,
   "metadata": {},
   "outputs": [],
   "source": [
    "data_path = \"../data/processed\"\n",
    "if os.path.exists(data_path):\n",
    "    shutil.rmtree(data_path)\n",
    "os.makedirs(data_path + \"/train/dogs\")\n",
    "os.makedirs(data_path + \"/train/cats\")"
   ]
  },
  {
   "cell_type": "code",
   "execution_count": 5,
   "metadata": {},
   "outputs": [],
   "source": [
    "for x in x_train:\n",
    "    if \"dog\" in x:\n",
    "        shutil.copy(x, data_path + \"/train/dogs\")\n",
    "    else:\n",
    "        shutil.copy(x, data_path + \"/train/cats\")"
   ]
  },
  {
   "cell_type": "code",
   "execution_count": 6,
   "metadata": {},
   "outputs": [
    {
     "name": "stdout",
     "output_type": "stream",
     "text": [
      "1424\n",
      "1382\n"
     ]
    }
   ],
   "source": [
    "print(len(os.listdir(data_path + \"/train/dogs\")))\n",
    "print(len(os.listdir(data_path + \"/train/cats\")))"
   ]
  },
  {
   "cell_type": "code",
   "execution_count": 7,
   "metadata": {},
   "outputs": [
    {
     "name": "stdout",
     "output_type": "stream",
     "text": [
      "Model: \"sequential\"\n",
      "_________________________________________________________________\n",
      " Layer (type)                Output Shape              Param #   \n",
      "=================================================================\n",
      " conv2d (Conv2D)             (None, 148, 148, 32)      896       \n",
      "                                                                 \n",
      " max_pooling2d (MaxPooling2D  (None, 74, 74, 32)       0         \n",
      " )                                                               \n",
      "                                                                 \n",
      " conv2d_1 (Conv2D)           (None, 72, 72, 64)        18496     \n",
      "                                                                 \n",
      " max_pooling2d_1 (MaxPooling  (None, 36, 36, 64)       0         \n",
      " 2D)                                                             \n",
      "                                                                 \n",
      " conv2d_2 (Conv2D)           (None, 34, 34, 128)       73856     \n",
      "                                                                 \n",
      " max_pooling2d_2 (MaxPooling  (None, 17, 17, 128)      0         \n",
      " 2D)                                                             \n",
      "                                                                 \n",
      " conv2d_3 (Conv2D)           (None, 15, 15, 128)       147584    \n",
      "                                                                 \n",
      " max_pooling2d_3 (MaxPooling  (None, 7, 7, 128)        0         \n",
      " 2D)                                                             \n",
      "                                                                 \n",
      " flatten (Flatten)           (None, 6272)              0         \n",
      "                                                                 \n",
      " dense (Dense)               (None, 512)               3211776   \n",
      "                                                                 \n",
      " dense_1 (Dense)             (None, 1)                 513       \n",
      "                                                                 \n",
      "=================================================================\n",
      "Total params: 3,453,121\n",
      "Trainable params: 3,453,121\n",
      "Non-trainable params: 0\n",
      "_________________________________________________________________\n"
     ]
    },
    {
     "name": "stderr",
     "output_type": "stream",
     "text": [
      "2023-01-24 20:55:31.100663: W tensorflow/compiler/xla/stream_executor/platform/default/dso_loader.cc:64] Could not load dynamic library 'libcuda.so.1'; dlerror: libcuda.so.1: cannot open shared object file: No such file or directory\n",
      "2023-01-24 20:55:31.100971: W tensorflow/compiler/xla/stream_executor/cuda/cuda_driver.cc:265] failed call to cuInit: UNKNOWN ERROR (303)\n",
      "2023-01-24 20:55:31.101027: I tensorflow/compiler/xla/stream_executor/cuda/cuda_diagnostics.cc:156] kernel driver does not appear to be running on this host (hope): /proc/driver/nvidia/version does not exist\n",
      "2023-01-24 20:55:31.102105: I tensorflow/core/platform/cpu_feature_guard.cc:193] This TensorFlow binary is optimized with oneAPI Deep Neural Network Library (oneDNN) to use the following CPU instructions in performance-critical operations:  AVX2 AVX512F AVX512_VNNI FMA\n",
      "To enable them in other operations, rebuild TensorFlow with the appropriate compiler flags.\n"
     ]
    }
   ],
   "source": [
    "model = models.Sequential()\n",
    "model.add(layers.Conv2D(32, (3, 3), activation='relu', input_shape=(150, 150, 3)))\n",
    "model.add(layers.MaxPooling2D((2, 2)))\n",
    "model.add(layers.Conv2D(64, (3, 3), activation='relu'))\n",
    "model.add(layers.MaxPooling2D((2, 2)))\n",
    "model.add(layers.Conv2D(128, (3, 3), activation='relu'))\n",
    "model.add(layers.MaxPooling2D((2, 2)))\n",
    "model.add(layers.Conv2D(128, (3, 3), activation='relu'))\n",
    "model.add(layers.MaxPooling2D((2, 2)))\n",
    "model.add(layers.Flatten())\n",
    "model.add(layers.Dense(512, activation='relu'))\n",
    "model.add(layers.Dense(1, activation='sigmoid'))\n",
    "model.summary()"
   ]
  },
  {
   "cell_type": "code",
   "execution_count": 8,
   "metadata": {},
   "outputs": [],
   "source": [
    "model.compile(\n",
    "    loss='binary_crossentropy',\n",
    "    optimizer=optimizers.RMSprop(learning_rate=1e-4),\n",
    "    metrics=['acc']\n",
    ")"
   ]
  },
  {
   "cell_type": "code",
   "execution_count": 9,
   "metadata": {},
   "outputs": [
    {
     "name": "stdout",
     "output_type": "stream",
     "text": [
      "Found 2806 files belonging to 2 classes.\n",
      "Using 2245 files for training.\n",
      "Using 561 files for validation.\n"
     ]
    }
   ],
   "source": [
    "batch_size = 16\n",
    "x_train, x_valid = tf.keras.utils.image_dataset_from_directory(\n",
    "    (data_path + \"/train\"),\n",
    "    batch_size=batch_size,\n",
    "    image_size=(150, 150),\n",
    "    validation_split=.2,\n",
    "    subset=\"both\",\n",
    "    seed=42\n",
    ")"
   ]
  },
  {
   "cell_type": "code",
   "execution_count": 10,
   "metadata": {},
   "outputs": [
    {
     "name": "stdout",
     "output_type": "stream",
     "text": [
      "2256\n",
      "576\n"
     ]
    }
   ],
   "source": [
    "x_train_count = len(x_train) * batch_size\n",
    "x_valid_count = len(x_valid) * batch_size\n",
    "print(x_train_count)\n",
    "print(x_valid_count)"
   ]
  },
  {
   "cell_type": "code",
   "execution_count": 11,
   "metadata": {},
   "outputs": [
    {
     "name": "stdout",
     "output_type": "stream",
     "text": [
      "Epoch 1/25\n",
      "141/141 [==============================] - 20s 139ms/step - loss: 1.4787 - acc: 0.5621 - val_loss: 0.7340 - val_acc: 0.5365\n",
      "Epoch 2/25\n",
      "141/141 [==============================] - 19s 138ms/step - loss: 0.6566 - acc: 0.6441 - val_loss: 0.8176 - val_acc: 0.5597\n",
      "Epoch 3/25\n",
      "141/141 [==============================] - 19s 133ms/step - loss: 0.5469 - acc: 0.7261 - val_loss: 0.7938 - val_acc: 0.6043\n",
      "Epoch 4/25\n",
      "141/141 [==============================] - 19s 138ms/step - loss: 0.4381 - acc: 0.7933 - val_loss: 0.9934 - val_acc: 0.5740\n",
      "Epoch 5/25\n",
      "141/141 [==============================] - 19s 135ms/step - loss: 0.3659 - acc: 0.8272 - val_loss: 0.7608 - val_acc: 0.6827\n",
      "Epoch 6/25\n",
      "141/141 [==============================] - 19s 138ms/step - loss: 0.2722 - acc: 0.8811 - val_loss: 0.9747 - val_acc: 0.6292\n",
      "Epoch 7/25\n",
      "141/141 [==============================] - 20s 140ms/step - loss: 0.1959 - acc: 0.9198 - val_loss: 0.9210 - val_acc: 0.6702\n",
      "Epoch 8/25\n",
      "141/141 [==============================] - 20s 139ms/step - loss: 0.1724 - acc: 0.9296 - val_loss: 1.0193 - val_acc: 0.6970\n",
      "Epoch 9/25\n",
      "141/141 [==============================] - 20s 139ms/step - loss: 0.1258 - acc: 0.9501 - val_loss: 1.1792 - val_acc: 0.6631\n",
      "Epoch 10/25\n",
      "141/141 [==============================] - 20s 138ms/step - loss: 0.1005 - acc: 0.9617 - val_loss: 1.1238 - val_acc: 0.7059\n",
      "Epoch 11/25\n",
      "141/141 [==============================] - 19s 135ms/step - loss: 0.1038 - acc: 0.9670 - val_loss: 1.1814 - val_acc: 0.6970\n",
      "Epoch 12/25\n",
      "141/141 [==============================] - 19s 138ms/step - loss: 0.0736 - acc: 0.9768 - val_loss: 1.7078 - val_acc: 0.6239\n",
      "Epoch 13/25\n",
      "141/141 [==============================] - 20s 142ms/step - loss: 0.0761 - acc: 0.9759 - val_loss: 1.3106 - val_acc: 0.7112\n",
      "Epoch 14/25\n",
      "141/141 [==============================] - 20s 142ms/step - loss: 0.0688 - acc: 0.9733 - val_loss: 1.4135 - val_acc: 0.6827\n",
      "Epoch 15/25\n",
      "141/141 [==============================] - 20s 142ms/step - loss: 0.0405 - acc: 0.9853 - val_loss: 1.6902 - val_acc: 0.6613\n",
      "Epoch 16/25\n",
      "141/141 [==============================] - 20s 140ms/step - loss: 0.0415 - acc: 0.9866 - val_loss: 1.6791 - val_acc: 0.6916\n",
      "Epoch 17/25\n",
      "141/141 [==============================] - ETA: 0s - loss: 0.0543 - acc: 0.9835"
     ]
    }
   ],
   "source": [
    "history = model.fit(\n",
    "    x_train.repeat(),\n",
    "    steps_per_epoch=int(x_train_count/batch_size),\n",
    "    epochs=25,\n",
    "    validation_data=x_valid.repeat(),\n",
    "    validation_steps=int(x_valid_count/batch_size)\n",
    ")"
   ]
  },
  {
   "cell_type": "code",
   "execution_count": null,
   "metadata": {},
   "outputs": [],
   "source": [
    "acc = history.history['acc']\n",
    "vall_acc = history.history['val_acc']\n",
    "loss = history.history['loss']\n",
    "val_loss = history.history['val_loss']\n",
    "epochs = range(1, len(acc) + 1)\n",
    "\n",
    "fig = go.Figure()\n",
    "fig.add_trace(go.Scatter(x=epochs, y=acc, name=\"Training Accuracy\"))\n",
    "fig.add_trace(go.Scatter(x=epochs, y=vall_acc, name=\"Validation Accuracy\"))\n",
    "fig.update_layout(\n",
    "    title=\"Training and Validation Accuracy\",\n",
    "    xaxis_title=\"Epochs\",\n",
    "    yaxis_title=\"Accuracy\"\n",
    ")\n",
    "fig.show()"
   ]
  }
 ],
 "metadata": {
  "kernelspec": {
   "display_name": "dogs_vs_cats",
   "language": "python",
   "name": "python3"
  },
  "language_info": {
   "codemirror_mode": {
    "name": "ipython",
    "version": 3
   },
   "file_extension": ".py",
   "mimetype": "text/x-python",
   "name": "python",
   "nbconvert_exporter": "python",
   "pygments_lexer": "ipython3",
   "version": "3.10.8"
  },
  "orig_nbformat": 4,
  "vscode": {
   "interpreter": {
    "hash": "c524997143672cb4badf9a8f9d59dc57f476a7f64ce8e85fe24adb4183af89b3"
   }
  }
 },
 "nbformat": 4,
 "nbformat_minor": 2
}
